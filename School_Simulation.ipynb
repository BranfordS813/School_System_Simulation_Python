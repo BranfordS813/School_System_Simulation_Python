{
 "cells": [
  {
   "cell_type": "markdown",
   "id": "f7123dc9",
   "metadata": {},
   "source": [
    "# School System Simulation\n",
    "\n",
    "A Jupyter note book that explores using class modules to build a simulation for a school system with students, teacheres, and assigned grades.\n",
    "\n",
    "More entities like staff and administration to be later added."
   ]
  }
 ],
 "metadata": {
  "kernelspec": {
   "display_name": "base_env",
   "language": "python",
   "name": "python3"
  },
  "language_info": {
   "name": "python",
   "version": "3.13.3"
  }
 },
 "nbformat": 4,
 "nbformat_minor": 5
}
